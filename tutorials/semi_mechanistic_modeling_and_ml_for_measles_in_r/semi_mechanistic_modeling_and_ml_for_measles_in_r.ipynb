{
  "nbformat": 4,
  "nbformat_minor": 0,
  "metadata": {
    "colab": {
      "provenance": []
    },
    "kernelspec": {
      "name": "ir",
      "display_name": "R"
    },
    "language_info": {
      "name": "R"
    }
  },
  "cells": [
    {
      "cell_type": "markdown",
      "source": [
        "# Semi-Mechanistic Modeling and Machine Learning for Measles in R\n",
        "### Created by Wyatt Madden\n",
        "\n",
        "Please reach out with questions or suggestions: wyatt.madden@emory.edu"
      ],
      "metadata": {
        "id": "DrtLKYDwQUZB"
      }
    },
    {
      "cell_type": "markdown",
      "source": [
        "# Introduction\n",
        "\n",
        "In this tutorial we will forecast measles incidence using both the semi-mechanistic TSIR model and the LASSO machine learning model. We will employ the seminal England and Wales pre-vaccination bi-weekly measles dataset (a description of which can be found [here](https://doi.org/10.1371/journal.pcbi.1010251)).\n",
        "\n",
        "The machine learning methods follow research introduced in [this paper](https://doi.org/10.1371/journal.pcbi.1010251), by Lau et al..\n",
        "\n",
        "First we install and load necessary R packages: the [`tsiR`](https://doi.org/10.1371/journal.pone.0185528) package, and the `glmnet` package.\n",
        "\n"
      ],
      "metadata": {
        "id": "1sQcENx5if6I"
      }
    },
    {
      "cell_type": "code",
      "execution_count": null,
      "metadata": {
        "id": "35j6c4diXbHy"
      },
      "outputs": [],
      "source": [
        "library(tidyverse)\n",
        "\n",
        "install.packages(\"tsiR\")\n",
        "library(tsiR)\n",
        "\n",
        "install.packages(\"glmnet\")\n",
        "library(glmnet)\n",
        "\n",
        "theme_set(theme_bw())\n",
        "options(repr.plot.width = 10, repr.plot.height = 6, warn = -1)"
      ]
    },
    {
      "cell_type": "markdown",
      "source": [
        "# Data\n",
        "\n",
        "Next we read-in and inspect the measles dataset."
      ],
      "metadata": {
        "id": "JZWiOxr_fhZp"
      }
    },
    {
      "cell_type": "code",
      "source": [
        "# location of data in github repo\n",
        "url_loc <- paste0(\"https://raw.githubusercontent.com/WyattGMadden/\",\n",
        "                  \"intro_to_ml_for_id_emory/main/data/england_and_wales_measles/measles.csv\")\n",
        "\n",
        "# read in data\n",
        "measles <- read_csv(url_loc)"
      ],
      "metadata": {
        "id": "lWD-te_Xfd2G"
      },
      "execution_count": null,
      "outputs": []
    },
    {
      "cell_type": "code",
      "source": [
        "head(measles)\n",
        "#str(measles)\n",
        "#summary(measles)"
      ],
      "metadata": {
        "id": "V7WI2dj9g0cZ"
      },
      "execution_count": null,
      "outputs": []
    },
    {
      "cell_type": "markdown",
      "source": [
        "This dataset contains measles incidence in forty cities from 1944-1965. Let us plot all the data prior to fitting models."
      ],
      "metadata": {
        "id": "Ho2zJyJyg3C2"
      }
    },
    {
      "cell_type": "code",
      "source": [
        "# plot all measles data over time\n",
        "measles |>\n",
        "    ggplot(aes(x = time, y = cases, color = city)) +\n",
        "    geom_line(alpha = 0.3)"
      ],
      "metadata": {
        "id": "6nGUx9KphGU0"
      },
      "execution_count": null,
      "outputs": []
    },
    {
      "cell_type": "markdown",
      "source": [
        "For now we will focus on just London measles incidence."
      ],
      "metadata": {
        "id": "s3EnNQR7iMRJ"
      }
    },
    {
      "cell_type": "code",
      "source": [
        "# make subset of just London measles data\n",
        "london_measles <- measles |>\n",
        "    filter(city == \"London\")\n",
        "\n",
        "# plot London measles data\n",
        "london_measles |>\n",
        "    ggplot(aes(x = time, y = cases)) +\n",
        "    geom_line()"
      ],
      "metadata": {
        "id": "eG9bgxqQiT4s"
      },
      "execution_count": null,
      "outputs": []
    },
    {
      "cell_type": "markdown",
      "source": [
        "# TSIR\n",
        "\n",
        "Next we fit the TSIR model to the full london measles dataset. A paper accompanying the tsiR package can be found [here](https://doi.org/10.1371/journal.pone.0185528)."
      ],
      "metadata": {
        "id": "LnWxObmIiuE1"
      }
    },
    {
      "cell_type": "code",
      "source": [
        "london_tsir <- runtsir(\n",
        "    data = london_measles,\n",
        "    IP = 2,\n",
        "    xreg = 'cumcases',\n",
        "    regtype = 'gaussian',\n",
        "    alpha = NULL,\n",
        "    sbar = NULL,\n",
        "    family = 'gaussian',\n",
        "    link = 'identity',\n",
        "    method = 'deterministic',\n",
        "    pred = 'step-ahead')\n",
        "\n",
        "plotres(london_tsir)"
      ],
      "metadata": {
        "id": "0wfqxJ27iYwi"
      },
      "execution_count": null,
      "outputs": []
    },
    {
      "cell_type": "markdown",
      "source": [
        "## Exercises\n",
        "\n",
        "1. Read the help file of the `runtsir` function (`?runtsir`) and explore different fitting options. Compare the summary plots.\n",
        "\n",
        "2. Fit the tsir model in measles incidence for a different city."
      ],
      "metadata": {
        "id": "6nBL__3WjdPk"
      }
    },
    {
      "cell_type": "code",
      "source": [
        "# conduct exercise here"
      ],
      "metadata": {
        "id": "o5bAgwUfkSXq"
      },
      "execution_count": null,
      "outputs": []
    },
    {
      "cell_type": "markdown",
      "source": [
        "Next we will generate one-step-ahead forecasts using the TSIR model. We will use a non-seasonal beta estimation to simplify forecasting. We again fit the TSIR model:"
      ],
      "metadata": {
        "id": "nnMiIHdRklTa"
      }
    },
    {
      "cell_type": "code",
      "source": [
        "london_tsir_est <- runtsir(\n",
        "    data = london_measles,\n",
        "    IP = 2,\n",
        "    xreg = 'cumcases',\n",
        "    regtype = 'gaussian',\n",
        "    alpha = NULL,\n",
        "    sbar = NULL,\n",
        "    family = 'gaussian',\n",
        "    seasonality = \"none\",\n",
        "    link = 'identity',\n",
        "    method = 'deterministic',\n",
        "    pred = 'step-ahead',\n",
        "    nsim = 1)"
      ],
      "metadata": {
        "id": "GB8BXtrzlMkd"
      },
      "execution_count": null,
      "outputs": []
    },
    {
      "cell_type": "markdown",
      "source": [
        "The TSIR updating equations are described as follows:\n",
        "\n",
        "$S_{t+1} = B_{t + 1} - S_t - I_{t + 1}$\n",
        "\n",
        "$E[I_{t + 1}] = \\beta S_t I^{\\alpha}_t$\n",
        "\n",
        "Where $S$ are the reconstructed susceptibles provided by the TSIR model, $B$ are the births, $I$ is the true case number ($I$ x reporting rate = incidence), and $\\beta$ and $\\alpha$ are estimated parameters.\n",
        "\n",
        "We first find the values of interest from the model output:"
      ],
      "metadata": {
        "id": "l6OvAgAnlVeq"
      }
    },
    {
      "cell_type": "code",
      "source": [
        "# beta\n",
        "beta_est <- unique(london_tsir_est$beta)\n",
        "\n",
        "# alpha\n",
        "alpha_est <- london_tsir_est$alpha\n",
        "\n",
        "# reporting rate\n",
        "rho_est <- london_tsir_est$rho\n",
        "\n",
        "# reconstructed susceptibles\n",
        "S_est <- london_tsir_est$simS[, \"mean\"]\n",
        "\n",
        "# estimated incidence\n",
        "incidence_est <- london_tsir_est$res$mean\n",
        "\n",
        "# estimated I\n",
        "I_est <- incidence_est * rho_est"
      ],
      "metadata": {
        "id": "oKVI3aW6m3mW"
      },
      "execution_count": null,
      "outputs": []
    },
    {
      "cell_type": "markdown",
      "source": [
        "Next we create empty vectors to store forecasts and intermediate values."
      ],
      "metadata": {
        "id": "MXt5AaY8nyGa"
      }
    },
    {
      "cell_type": "code",
      "source": [
        "S_one_step_ahead <- rep(NA, nrow(london_measles))\n",
        "I_one_step_ahead <- rep(NA, nrow(london_measles))\n",
        "cases_one_step_ahead <- rep(NA, nrow(london_measles))"
      ],
      "metadata": {
        "id": "L4-p7jG2n6UV"
      },
      "execution_count": null,
      "outputs": []
    },
    {
      "cell_type": "markdown",
      "source": [
        "We also create a one-year-lagged births vector to prevent using future data in our forecasts while maintaining aligned birth seasonality."
      ],
      "metadata": {
        "id": "C4ZlqFVwoC_5"
      }
    },
    {
      "cell_type": "code",
      "source": [
        "# births from one year ago\n",
        "births_for_pred <- lag(london_measles$births, 26)"
      ],
      "metadata": {
        "id": "mgR4yKFeoQLb"
      },
      "execution_count": null,
      "outputs": []
    },
    {
      "cell_type": "markdown",
      "source": [
        "We are now ready to calculate one-step-ahead forecasts."
      ],
      "metadata": {
        "id": "2Br3JACdoUHt"
      }
    },
    {
      "cell_type": "code",
      "source": [
        "# iteratively calculate forecasts\n",
        "for (i in 2:nrow(london_measles)) {\n",
        "    I_one_step_ahead[i] <- beta_est * S_est[i - 1] * (I_est[i - 1])^alpha_est\n",
        "    cases_one_step_ahead[i] <- I_one_step_ahead[i] / rho_est[i - 1]\n",
        "    S_one_step_ahead[i] <- births_for_pred[i] + S_est[i - 1] - I_one_step_ahead[i]\n",
        "}"
      ],
      "metadata": {
        "id": "MRzO4EoPobeP"
      },
      "execution_count": null,
      "outputs": []
    },
    {
      "cell_type": "markdown",
      "source": [
        "Let us now visually compare the forecasts to the true incidence values."
      ],
      "metadata": {
        "id": "pMon6cLjonFm"
      }
    },
    {
      "cell_type": "code",
      "source": [
        "london_tsir_pred <- london_measles\n",
        "london_tsir_pred$tsir_pred <- cases_one_step_ahead\n",
        "\n",
        "london_tsir_pred |>\n",
        "    pivot_longer(c(\"cases\", \"tsir_pred\"), names_to = \"true_pred\", values_to = \"cases\") |>\n",
        "    ggplot(aes(x = time, y = cases, color = true_pred, linetype = true_pred)) +\n",
        "    geom_line()\n"
      ],
      "metadata": {
        "id": "Wng0_IOhoudy"
      },
      "execution_count": null,
      "outputs": []
    },
    {
      "cell_type": "markdown",
      "source": [
        "## Exercises\n",
        "\n",
        "1. Try forecast two (or more) steps ahead.\n",
        "\n",
        "2. Attempt to forecast on a city other than London.\n",
        "\n",
        "3. How might you account for seasonal beta terms in the forecast?"
      ],
      "metadata": {
        "id": "UNDCWjwOpEfo"
      }
    },
    {
      "cell_type": "code",
      "source": [
        "# conduct exercise here"
      ],
      "metadata": {
        "id": "6WT1sYiM4zvj"
      },
      "execution_count": null,
      "outputs": []
    },
    {
      "cell_type": "markdown",
      "source": [
        "# LASSO\n",
        "\n",
        "Next we fit the LASSO machine learning model to the same London measles data. The LASSO is a flexible regression model that is often more performant than mechanistic/semi-mechanistic models. Rather then making iterative step-ahead predictions, we instead include lagged measles incidence values as features. We fit the regression model on a training data set (the first 70% of the data in this case), and assess performance on the remainder of the data.\n",
        "\n",
        "The model is written as follows:\n",
        "\n",
        "$log(E(I_{i, t + k})) = \\eta + \\sum\\limits^{T_{lag}}_{J = 1} \\Psi_J log(I_{i, t - J + 1}) + \\gamma log(\\bar{B}_{i, (t - T_{lag}):t} + 1)$\n",
        "\n",
        "Here we are regressing lagged log-incidence (with lags ranging from k steps prior to $T_{lag}$ steps prior) and the mean births over the lags, on the current-step log-incidence. Further explanation can be found [here](https://doi.org/10.1371/journal.pcbi.1010251).\n",
        "\n",
        "We start by setting $T_{lag}$ to 130 creating the lag-incidence features and the mean birth feature. As in the TSIR section, we will forecast one-step-ahead."
      ],
      "metadata": {
        "id": "poLUWt98o8gI"
      }
    },
    {
      "cell_type": "code",
      "source": [
        "# initialize data and T_lag\n",
        "lasso_data <- london_measles\n",
        "T_lag <- 130\n",
        "\n",
        "lasso_data$log_cases <- log(lasso_data$cases)\n",
        "\n",
        "# get case lags\n",
        "for (i in 1:T_lag) {\n",
        "    lasso_data[, paste0(\"log_cases_lag\", i)] <- lag(lasso_data$log_cases, i)\n",
        "}\n",
        "\n",
        "# get mean births\n",
        "lasso_data$log_mean_births_lag <- rep(NA, nrow(lasso_data))\n",
        "for (i in (T_lag + 1):nrow(lasso_data)) {\n",
        "    lasso_data$log_mean_births_lag[i] <- log(mean(lasso_data$births[(i - T_lag):(i - 1)]) + 1)\n",
        "}\n",
        "\n",
        "# remove first 130 data rows with NA lag incidence values\n",
        "lasso_data_full <- lasso_data[!is.na(lasso_data$log_mean_births_lag), ]\n"
      ],
      "metadata": {
        "id": "xCG5f3njpgjP"
      },
      "execution_count": null,
      "outputs": []
    },
    {
      "cell_type": "markdown",
      "source": [
        "Next we divide our dataset into training and testing, and create the respective Y and X matrices for use in the LASSO fitting function."
      ],
      "metadata": {
        "id": "kXB2PA5qtU9F"
      }
    },
    {
      "cell_type": "code",
      "source": [
        "train_set_proportion <- 0.7\n",
        "train_set_size <- round(nrow(lasso_data_full) * train_set_proportion)\n",
        "lasso_data_train <- lasso_data_full[1:train_set_size, ]\n",
        "lasso_data_test <- lasso_data_full[(train_set_size + 1):nrow(lasso_data_full), ]\n",
        "\n",
        "\n",
        "Y_train <- lasso_data_train$cases\n",
        "\n",
        "# get column names for all features (incidence lags and mean-births)\n",
        "X_col_names <- c(grep(\"log_cases_lag\", names(lasso_data), value = T),\n",
        "                 \"log_mean_births_lag\")\n",
        "X_train <- as.matrix(lasso_data_train[, X_col_names])\n"
      ],
      "metadata": {
        "id": "0jDgud-Ctal0"
      },
      "execution_count": null,
      "outputs": []
    },
    {
      "cell_type": "markdown",
      "source": [
        "Lasso uses a penalized L1 loss term in addition to the standard MSE loss: $\\lambda \\sum\\limits^p_{k=1} |\\theta_k|$, where $\\lambda$ is a hyperparameter.\n",
        "Here we select $\\lambda$ using cross validation:"
      ],
      "metadata": {
        "id": "oyGDmBmRt3jB"
      }
    },
    {
      "cell_type": "code",
      "source": [
        "# estimate lambda\n",
        "cv.lasso.oneahead <- cv.glmnet(\n",
        "    X_train,\n",
        "    Y_train,\n",
        "    alpha = 1,\n",
        "    lower.limits = -Inf,\n",
        "    family = \"poisson\",\n",
        "    intercept = T)\n",
        "\n",
        "plot(cv.lasso.oneahead)"
      ],
      "metadata": {
        "id": "_HxeTdh3ua_2"
      },
      "execution_count": null,
      "outputs": []
    },
    {
      "cell_type": "markdown",
      "source": [
        "Now we are ready to fit the LASSO on the training dataset."
      ],
      "metadata": {
        "id": "u5oQpje0uq6r"
      }
    },
    {
      "cell_type": "code",
      "source": [
        "model.oneahead <- glmnet(\n",
        "    X_train,\n",
        "    Y_train,\n",
        "    alpha = 1,\n",
        "    family = \"poisson\",\n",
        "    lambda = cv.lasso.oneahead$lambda.1se)"
      ],
      "metadata": {
        "id": "kFBEEVOzup9E"
      },
      "execution_count": null,
      "outputs": []
    },
    {
      "cell_type": "markdown",
      "source": [
        "We can make predictions on the training set as follows:"
      ],
      "metadata": {
        "id": "GP6CJrjPvHt-"
      }
    },
    {
      "cell_type": "code",
      "source": [
        "train_pred <- predict(\n",
        "    model.oneahead,\n",
        "    newx = X_train,\n",
        "    type = \"response\"\n",
        "    )\n",
        "\n",
        "lasso_data_train$pred <- train_pred\n",
        "\n",
        "lasso_data_train |>\n",
        "    ggplot(aes(x = time)) +\n",
        "    geom_line(aes(y = cases)) +\n",
        "    geom_line(aes(y = pred), colour = \"red\")"
      ],
      "metadata": {
        "id": "k6C5nszMvOGd"
      },
      "execution_count": null,
      "outputs": []
    },
    {
      "cell_type": "markdown",
      "source": [
        "LASSO appears to forecast one-step ahead very accurately on the training dataset. Is performance similarly high on the test dataset?"
      ],
      "metadata": {
        "id": "mSW2OLArvCfJ"
      }
    },
    {
      "cell_type": "code",
      "source": [
        "X_test <- as.matrix(lasso_data_test[, X_col_names])\n",
        "\n",
        "test_pred <- predict(\n",
        "    model.oneahead,\n",
        "    newx = X_test,\n",
        "    type = \"response\"\n",
        "    )\n",
        "\n",
        "lasso_data_test$lasso_pred <- test_pred\n",
        "\n",
        "lasso_data_test |>\n",
        "    ggplot(aes(x = time)) +\n",
        "    geom_line(aes(y = cases)) +\n",
        "    geom_line(aes(y = lasso_pred), colour = \"red\")"
      ],
      "metadata": {
        "id": "GZ7t9Bxuu_Dr"
      },
      "execution_count": null,
      "outputs": []
    },
    {
      "cell_type": "markdown",
      "source": [
        "Finally, let us compare TSIR predictions with LASSO predictions."
      ],
      "metadata": {
        "id": "Oxi7pCcsvkGz"
      }
    },
    {
      "cell_type": "code",
      "source": [
        "tsir_pred <- london_tsir_pred[london_tsir_pred$time %in% lasso_data_test$time, ]\n",
        "lasso_data_test$tsir_pred <- tsir_pred$tsir_pred\n",
        "\n",
        "lasso_data_test |>\n",
        "    pivot_longer(c(\"cases\", \"tsir_pred\", \"lasso_pred\"),\n",
        "                 names_to = \"type\",\n",
        "                 values_to = \"value\") |>\n",
        "    ggplot(aes(x = time, y = value, color = type, linetype = type)) +\n",
        "    geom_line() +\n",
        "    labs(title = \"London Measles Cases: True vs. Predicted\",\n",
        "         x = \"Time\",\n",
        "         y = \"Cases\")"
      ],
      "metadata": {
        "id": "OZtnGx0FvoRI"
      },
      "execution_count": null,
      "outputs": []
    },
    {
      "cell_type": "code",
      "source": [
        "tsir_mse <- mean((lasso_data_test$cases - lasso_data_test$tsir_pred)^2)\n",
        "lasso_mse <- mean((lasso_data_test$cases - lasso_data_test$lasso_pred)^2)\n",
        "\n",
        "print(paste0(\"TSIR MSE: \", round(tsir_mse, 2)))\n",
        "print(paste0(\"LASSO MSE: \", round(lasso_mse, 2)))"
      ],
      "metadata": {
        "id": "hpgHK7NtwBon"
      },
      "execution_count": null,
      "outputs": []
    },
    {
      "cell_type": "markdown",
      "source": [
        "# Exercises\n",
        "\n",
        "1. Mean Absolute Error (MAE) may be a more appropriate metric due to large positive incidence values. Calculate MAE for the TSIR and LASSO test predictions.\n",
        "\n",
        "2. Experiment with different $T_{lag}$ values. Is the LASSO still better than TSIR for small $T_{lag}$ values.\n",
        "\n",
        "3. Fit the LASSO model on a differenct city and/or for different step-ahead forecasts.\n",
        "\n"
      ],
      "metadata": {
        "id": "pyFdqj-1xEi9"
      }
    },
    {
      "cell_type": "code",
      "source": [
        "# conduct exercise here"
      ],
      "metadata": {
        "id": "c4B3qDMsBCb5"
      },
      "execution_count": null,
      "outputs": []
    }
  ]
}