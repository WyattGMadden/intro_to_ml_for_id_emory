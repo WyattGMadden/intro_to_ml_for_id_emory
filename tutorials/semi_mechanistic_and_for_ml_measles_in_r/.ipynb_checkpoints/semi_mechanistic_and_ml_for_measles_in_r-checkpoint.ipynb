{
 "cells": [
  {
   "cell_type": "code",
   "execution_count": null,
   "metadata": {
    "colab": {
     "base_uri": "https://localhost:8080/"
    },
    "id": "35j6c4diXbHy",
    "outputId": "7ebebd24-4ec1-471e-bd83-7fd2f55d5a34"
   },
   "outputs": [],
   "source": [
    "library(tidyverse)"
   ]
  }
 ],
 "metadata": {
  "colab": {
   "provenance": []
  },
  "kernelspec": {
   "display_name": "R",
   "name": "ir"
  },
  "language_info": {
   "name": "R"
  }
 },
 "nbformat": 4,
 "nbformat_minor": 4
}
