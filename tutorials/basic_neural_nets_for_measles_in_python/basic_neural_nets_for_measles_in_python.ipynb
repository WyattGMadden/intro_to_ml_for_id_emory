{
  "nbformat": 4,
  "nbformat_minor": 0,
  "metadata": {
    "colab": {
      "provenance": [],
      "gpuType": "T4"
    },
    "kernelspec": {
      "name": "python3",
      "display_name": "Python 3"
    },
    "language_info": {
      "name": "python"
    },
    "accelerator": "GPU"
  },
  "cells": [
    {
      "cell_type": "markdown",
      "source": [
        "## Enabling and testing the GPU\n",
        "\n",
        "First, you'll need to enable GPUs for the notebook:\n",
        "\n",
        "- Navigate to Edit→Notebook Settings\n",
        "- select GPU from the Hardware Accelerator drop-down\n",
        "\n",
        "Next, we'll confirm that we can connect to the GPU with tensorflow:"
      ],
      "metadata": {
        "id": "rT0SvqCDozZs"
      }
    },
    {
      "cell_type": "code",
      "execution_count": null,
      "metadata": {
        "id": "89SwhoMJoSFU"
      },
      "outputs": [],
      "source": [
        "import torch\n",
        "\n",
        "if not torch.cuda.is_available():\n",
        "    raise SystemError('GPU device not found')\n",
        "print(f'Found GPU at: {torch.cuda.get_device_name(torch.cuda.current_device())}')"
      ]
    },
    {
      "cell_type": "markdown",
      "source": [
        "# Notes on Python\n",
        "\n",
        "## Basic Python\n",
        "\n",
        "### Variable Types"
      ],
      "metadata": {
        "id": "FsNtXox8ei7e"
      }
    },
    {
      "cell_type": "code",
      "source": [
        "integer_var = 10\n",
        "float_var = 5.5\n",
        "string_var = \"Hello, World!\"\n",
        "boolean_var = True\n"
      ],
      "metadata": {
        "id": "VjK2MduaerZG"
      },
      "execution_count": null,
      "outputs": []
    },
    {
      "cell_type": "markdown",
      "source": [
        "### Conditional Statements"
      ],
      "metadata": {
        "id": "JrhZ5VNFetWK"
      }
    },
    {
      "cell_type": "code",
      "source": [
        "age = 17\n",
        "\n",
        "if age < 18:\n",
        "    print(\"You are a minor.\")\n",
        "elif age >= 18 and age < 65:\n",
        "    print(\"You are an adult.\")\n",
        "else:\n",
        "    print(\"You are a senior.\")"
      ],
      "metadata": {
        "id": "9halskO9evZn"
      },
      "execution_count": null,
      "outputs": []
    },
    {
      "cell_type": "markdown",
      "source": [
        "### Loops"
      ],
      "metadata": {
        "id": "eRpPkRk_exdF"
      }
    },
    {
      "cell_type": "code",
      "source": [
        "# for loop\n",
        "for i in range(5):  # range(5) generates numbers from 0 to 4\n",
        "    print(i)"
      ],
      "metadata": {
        "id": "RcKkvlrCey6S"
      },
      "execution_count": null,
      "outputs": []
    },
    {
      "cell_type": "code",
      "source": [
        "# while loop\n",
        "counter = 0\n",
        "while counter < 5:\n",
        "    print(counter)\n",
        "    counter += 1"
      ],
      "metadata": {
        "id": "nGgXspure2Bd"
      },
      "execution_count": null,
      "outputs": []
    },
    {
      "cell_type": "markdown",
      "source": [
        "### Functions"
      ],
      "metadata": {
        "id": "m89z-u1Oe7Cr"
      }
    },
    {
      "cell_type": "code",
      "source": [
        "def greet(name):\n",
        "    print(\"Hello \" + name)\n",
        "\n",
        "greet(\"John\")\n",
        "greet(\"Jane\")"
      ],
      "metadata": {
        "id": "rHPJnuQ3e_EV"
      },
      "execution_count": null,
      "outputs": []
    },
    {
      "cell_type": "markdown",
      "source": [
        "### Lists\n"
      ],
      "metadata": {
        "id": "yQ3e7unde0fc"
      }
    },
    {
      "cell_type": "code",
      "source": [
        "fruits = [\"apple\", \"banana\", \"orange\"]\n",
        "fruits\n",
        "fruits.append(\"grape\")\n",
        "fruits\n",
        "fruits.remove(\"banana\")\n",
        "fruits\n",
        "\n",
        "fruits[0]\n",
        "fruits[0] = \"pineapple\"\n",
        "fruits"
      ],
      "metadata": {
        "id": "oGrKvO0Ve9b1"
      },
      "execution_count": null,
      "outputs": []
    },
    {
      "cell_type": "code",
      "source": [
        "fruits"
      ],
      "metadata": {
        "id": "0xtqmASTwn5t"
      },
      "execution_count": null,
      "outputs": []
    },
    {
      "cell_type": "markdown",
      "source": [
        "## Python Libraries\n",
        "\n",
        "Python libraries are like R packages. They often have extensive documentation online. We will use the following python packages in this tutorial:\n",
        "\n",
        "- numpy: math and working with matrices\n",
        "- pandas: cleaning/wrangling data frames\n",
        "- sklearn: machine learning toolkit\n",
        "- matplotlib: plotting\n",
        "- seaborn: more plotting\n",
        "- torch: neural networks, backprop optimization"
      ],
      "metadata": {
        "id": "Tx-VpBJ0kNlF"
      }
    },
    {
      "cell_type": "markdown",
      "source": [
        "# Read In Data\n",
        "In this tutorial we will forecast measles incidence using neural networks in PyTorch. We will employ the seminal England and Wales pre-vaccination bi-weekly measles dataset (a description of which can be found [here](https://doi.org/10.1371/journal.pcbi.1010251)).\n",
        "We will work with the thirty most populous cities from 1949-1965.  "
      ],
      "metadata": {
        "id": "3jX4xOY2YGpN"
      }
    },
    {
      "cell_type": "code",
      "source": [
        "import pandas as pd\n",
        "import requests\n",
        "import io\n",
        "\n",
        "# URL of the raw Parquet file on GitHub\n",
        "url = 'https://raw.githubusercontent.com/WyattGMadden/intro_to_ml_for_id_emory/main/data/england_and_wales_measles/uk_measles_30_cities.parquet'\n",
        "\n",
        "# Make a request to get the Parquet file\n",
        "r = requests.get(url)\n",
        "data = io.BytesIO(r.content)\n",
        "measles = pd.read_parquet(data)"
      ],
      "metadata": {
        "id": "A7Tl1KzddFwo"
      },
      "execution_count": null,
      "outputs": []
    },
    {
      "cell_type": "markdown",
      "source": [
        "# Explore Data\n",
        "\n",
        "Lets explore the data with some plots and summaries."
      ],
      "metadata": {
        "id": "1gZfUbldmWi_"
      }
    },
    {
      "cell_type": "code",
      "source": [
        "print(measles)"
      ],
      "metadata": {
        "id": "PHiAAd8KfDqf"
      },
      "execution_count": null,
      "outputs": []
    },
    {
      "cell_type": "code",
      "source": [
        "# example of method\n",
        "# first n rows of data frame\n",
        "measles.head()"
      ],
      "metadata": {
        "id": "rXdUKq27rgrT"
      },
      "execution_count": null,
      "outputs": []
    },
    {
      "cell_type": "code",
      "source": [
        "# example of attribute\n",
        "# list of data frame columns\n",
        "measles.columns"
      ],
      "metadata": {
        "id": "pJ650HmWriw2"
      },
      "execution_count": null,
      "outputs": []
    },
    {
      "cell_type": "code",
      "source": [
        "for i in measles.columns:\n",
        "  print(i)"
      ],
      "metadata": {
        "id": "wfgYG9Xv0ufB"
      },
      "execution_count": null,
      "outputs": []
    },
    {
      "cell_type": "code",
      "source": [
        "# get second column\n",
        "measles.cases"
      ],
      "metadata": {
        "id": "gJC3kHxUaz93"
      },
      "execution_count": null,
      "outputs": []
    },
    {
      "cell_type": "code",
      "source": [
        "# get value in second row, first column\n",
        "measles.iloc[1, 0]"
      ],
      "metadata": {
        "id": "a6txvqQbbHnp"
      },
      "execution_count": null,
      "outputs": []
    },
    {
      "cell_type": "code",
      "source": [
        "# dimensions\n",
        "measles.nearest_big_city_distances_unscaled"
      ],
      "metadata": {
        "id": "TksfYz5njrhr"
      },
      "execution_count": null,
      "outputs": []
    },
    {
      "cell_type": "code",
      "source": [
        "import matplotlib.pyplot as plt\n",
        "import seaborn as sns\n",
        "\n",
        "plt.figure(figsize=(10, 6))\n",
        "sns.lineplot(data=df, x='time', y='cases', hue='city', style='city', dashes=False, alpha=0.5)\n",
        "plt.title('Measles Cases Over Time by City')\n",
        "plt.xticks(rotation=45)\n",
        "plt.legend(title='City', bbox_to_anchor=(1.05, 1), loc=2, fontsize='x-small')\n",
        "plt.tight_layout()\n",
        "plt.show()\n"
      ],
      "metadata": {
        "id": "GH5CE_uSl9Js"
      },
      "execution_count": null,
      "outputs": []
    },
    {
      "cell_type": "markdown",
      "source": [
        "## Exercise\n",
        "\n",
        "- Make a plot of just the London cases over time."
      ],
      "metadata": {
        "id": "A4NCUI9mGa2G"
      }
    },
    {
      "cell_type": "code",
      "source": [],
      "metadata": {
        "id": "6himCozcH1Yi"
      },
      "execution_count": null,
      "outputs": []
    },
    {
      "cell_type": "markdown",
      "source": [
        "# Split Data Into Train/Test/Validation\n"
      ],
      "metadata": {
        "id": "bmiZbJwuzWIR"
      }
    },
    {
      "cell_type": "code",
      "source": [
        "import sklearn\n",
        "from sklearn.preprocessing import StandardScaler\n",
        "\n",
        "# split measles into train/test\n",
        "measles_train = measles[measles[\"time\"] < 60]\n",
        "measles_test = measles[measles[\"time\"] >= 60]\n",
        "\n",
        "# split heart data into features and target\n",
        "stand = StandardScaler()\n",
        "measles_train_features = measles_train.drop([\"time\", \"city\", \"cases\"], axis = 1).to_numpy()\n",
        "measles_test_features = measles_test.drop([\"time\", \"city\", \"cases\"], axis = 1).to_numpy()\n",
        "measles_train\n",
        "# standardize cases in training and test set\n",
        "measles_train_target = stand.fit_transform(measles_train[[\"cases\"]])\n",
        "measles_test_target = stand.transform(measles_test[[\"cases\"]])\n",
        "\n"
      ],
      "metadata": {
        "id": "AjwHF8kf08qU"
      },
      "execution_count": null,
      "outputs": []
    },
    {
      "cell_type": "code",
      "source": [
        "measles_train_features.shape"
      ],
      "metadata": {
        "id": "VE4beU1G3bHg"
      },
      "execution_count": null,
      "outputs": []
    },
    {
      "cell_type": "code",
      "source": [
        "measles_test_features.shape"
      ],
      "metadata": {
        "id": "GI_X9jMp3fhs"
      },
      "execution_count": null,
      "outputs": []
    },
    {
      "cell_type": "code",
      "source": [
        "measles_train_target"
      ],
      "metadata": {
        "id": "vThb_gIc8FJ4"
      },
      "execution_count": null,
      "outputs": []
    },
    {
      "cell_type": "markdown",
      "source": [
        "# Pytorch Neural Net"
      ],
      "metadata": {
        "id": "gosH-umX429T"
      }
    },
    {
      "cell_type": "markdown",
      "source": [
        "## Design and Run Model"
      ],
      "metadata": {
        "id": "cLUveuDixZuj"
      }
    },
    {
      "cell_type": "code",
      "source": [
        "import torch\n",
        "from torch import nn\n",
        "from torch.utils.data import Dataset, DataLoader\n",
        "\n",
        "\n",
        "# data is prepared for pytorch by using the Dataset class\n",
        "# this allows the dataset to be easily batched and iterated through\n",
        "class Data(Dataset):\n",
        "    def __init__(self, X, y):\n",
        "        self.X = torch.tensor(X).float()\n",
        "        self.y = torch.from_numpy(y).float()\n",
        "        self.len = self.X.shape[0]\n",
        "\n",
        "    def __getitem__(self, index):\n",
        "        return self.X[index], self.y[index]\n",
        "\n",
        "    def __len__(self):\n",
        "        return self.len\n",
        "\n",
        "\n",
        "# create Dataset/DataLoader class instances from measles data\n",
        "train = Data(measles_train_features, measles_train_target)\n",
        "train_loader = DataLoader(train, batch_size = 256, shuffle = False)\n",
        "\n",
        "test = Data(measles_test_features, measles_test_target)"
      ],
      "metadata": {
        "id": "k4w3p2Xq46eL"
      },
      "execution_count": null,
      "outputs": []
    },
    {
      "cell_type": "code",
      "source": [
        "# inspect the first batch of the heart trianing data dataloader instance\n",
        "for i, (features, targets) in enumerate(train_loader):\n",
        "  print(features.shape, targets.shape)\n",
        "  print(features)\n",
        "  print(targets)\n",
        "  break;\n"
      ],
      "metadata": {
        "id": "R1I-EWojKPmu"
      },
      "execution_count": null,
      "outputs": []
    },
    {
      "cell_type": "code",
      "source": [
        "# all pytorch neural nets have the same basic form (class)\n",
        "class NeuralNetwork(nn.Module):\n",
        "    def __init__(self, input_dim, hidden_dim, output_dim):\n",
        "        super(NeuralNetwork, self).__init__()\n",
        "        #self.flatten = nn.Flatten()\n",
        "        self.linear_relu_stack = nn.Sequential(\n",
        "            nn.Linear(input_dim, hidden_dim),\n",
        "            nn.ReLU(),\n",
        "            nn.Linear(hidden_dim, hidden_dim),\n",
        "            nn.ReLU(),\n",
        "            nn.Linear(hidden_dim, hidden_dim),\n",
        "            nn.ReLU(),\n",
        "            nn.Linear(hidden_dim, output_dim),\n",
        "            )\n",
        "    def forward(self, x):\n",
        "        #x = self.flatten(x)\n",
        "        return self.linear_relu_stack(x)\n",
        "\n",
        "\n",
        "# create the specific model instance that will be used to fit the neural net on the heart data\n",
        "model = NeuralNetwork(\n",
        "    input_dim = measles_train_features.shape[1],\n",
        "    hidden_dim = int(measles_train_features.shape[0] * (2/3)),\n",
        "    output_dim = measles_train_target.shape[1])\n",
        "model"
      ],
      "metadata": {
        "id": "Iif2e-7vA5U7"
      },
      "execution_count": null,
      "outputs": []
    },
    {
      "cell_type": "code",
      "source": [
        "# choose the loss function\n",
        "loss_fn = nn.MSELoss()\n",
        "\n",
        "# choose the optimization routine\n",
        "optimizer = torch.optim.Adam(model.parameters(), lr = 0.01)\n",
        "\n",
        "# choose the number of times the model runs through all the measles data\n",
        "num_epochs = 1\n",
        "\n",
        "# create empty lists to store the train/test loss at each epoch\n",
        "train_loss_values = []\n",
        "test_loss_values = []\n",
        "\n",
        "# tell pytorch that we are starting the training process\n",
        "model.train()\n",
        "\n",
        "\n",
        "# fit the model epoch * batch_size number of times.\n",
        "# Each time updates the parameters\n",
        "for epoch in range(num_epochs):\n",
        "    print(\"Starting Epoch: \" + str(epoch))\n",
        "    train_loss = 0\n",
        "    i = 1\n",
        "    for features, target in train_loader:\n",
        "\n",
        "        # keep track of batch number\n",
        "        i += 1\n",
        "\n",
        "        # zero the parameter gradients\n",
        "        optimizer.zero_grad()\n",
        "\n",
        "        # run the model on batched test features\n",
        "        pred = model(features)\n",
        "\n",
        "        # calculate loss\n",
        "        loss = loss_fn(pred, target)\n",
        "\n",
        "        # add loss to training_loss for accounting purposes\n",
        "        train_loss += loss.item()\n",
        "\n",
        "        # backpropogate loss\n",
        "        loss.backward()\n",
        "\n",
        "        # update parameters\n",
        "        optimizer.step()\n",
        "\n",
        "        print(\"Batch number: \" + str(i))\n",
        "\n",
        "    # save train/test set performance, append to lists\n",
        "    with torch.no_grad():\n",
        "      train_loss_values.append(train_loss / i)\n",
        "      test_pred = model(test.X)\n",
        "      test_loss = loss_fn(test_pred, test.y)\n",
        "      test_loss_values.append(test_loss.item())\n",
        "\n",
        "    # print the training loss to monitor during fitting\n",
        "    print(\"Finishing Epoch: \" + str(epoch))\n",
        "    print(\"Loss: \" + str(train_loss / i))\n",
        "\n",
        "print(\"Training Complete\")"
      ],
      "metadata": {
        "id": "q8UM0d97D3Q-"
      },
      "execution_count": null,
      "outputs": []
    },
    {
      "cell_type": "markdown",
      "source": [
        "## Evaluate Model\n",
        "\n",
        "First let's plot the train/test loss over fit iterations. The train loss (blue) quickly decreases and then levels off. The test loss (orange) slowly decreases, and then starts to increase due to overfitting."
      ],
      "metadata": {
        "id": "02z7yhKtxifw"
      }
    },
    {
      "cell_type": "code",
      "source": [
        "import matplotlib.pyplot as plt\n",
        "plt.plot(range(0, len(train_loss_values)), train_loss_values, color = \"blue\")\n",
        "plt.plot(range(0, len(train_loss_values)), test_loss_values, color = \"orange\")"
      ],
      "metadata": {
        "id": "sXKwFW1YsTbm"
      },
      "execution_count": null,
      "outputs": []
    },
    {
      "cell_type": "code",
      "source": [
        "# tell pytorch that we are no longer fitting the model\n",
        "# parameters will no longer update\n",
        "model.eval()\n",
        "\n",
        "# get model predictions for train/test/validation data sets\n",
        "test_preds = model(test.features)\n",
        "train_preds = model(train.features)\n",
        "valid_preds = model(valid.features)\n",
        "\n",
        "test_preds_np = test_preds.detach().numpy().flatten()\n",
        "test_np = test.target.numpy().flatten()\n",
        "\n",
        "train_preds_np = train_preds.detach().numpy().flatten()\n",
        "train_np = train.target.numpy().flatten()\n",
        "\n",
        "valid_preds_np = valid_preds.detach().numpy().flatten()\n",
        "valid_np = valid.target.numpy().flatten()\n",
        "\n",
        "\n",
        "valid_preds_np\n",
        "\n",
        "valid_preds_np > 0.5\n"
      ],
      "metadata": {
        "id": "DGtZdNm2QKwz"
      },
      "execution_count": null,
      "outputs": []
    },
    {
      "cell_type": "code",
      "source": [
        "accuracy_score(valid_np, valid_preds_np > 0.1)"
      ],
      "metadata": {
        "id": "F5NSFhgZfvzB"
      },
      "execution_count": null,
      "outputs": []
    },
    {
      "cell_type": "code",
      "source": [
        "accuracy_score(valid_np, valid_preds_np > 0.2)"
      ],
      "metadata": {
        "id": "p5LC5NjJfyUQ"
      },
      "execution_count": null,
      "outputs": []
    },
    {
      "cell_type": "code",
      "source": [
        "accuracy_score(valid_np, valid_preds_np > 0.5)"
      ],
      "metadata": {
        "id": "jM6jHYJDfycb"
      },
      "execution_count": null,
      "outputs": []
    },
    {
      "cell_type": "markdown",
      "source": [
        "True positive percent (percent of positives accurately predicted)"
      ],
      "metadata": {
        "id": "-oYwm9B9f0oQ"
      }
    },
    {
      "cell_type": "code",
      "source": [
        "actual_positive = (test_np == 1)\n",
        "num_actual_positive = np.sum(actual_positive)\n",
        "\n",
        "predicted_positive = (test_preds_np > 0.01)\n",
        "actual_and_predicted_positive = np.logical_and(actual_positive, predicted_positive)\n",
        "num_actual_and_predicted_positive = np.sum(actual_and_predicted_positive)\n",
        "\n",
        "true_positive_percent = (num_actual_and_predicted_positive / num_actual_positive) * 100\n",
        "true_positive_percent"
      ],
      "metadata": {
        "id": "ql9sH8jef34b"
      },
      "execution_count": null,
      "outputs": []
    },
    {
      "cell_type": "markdown",
      "source": [
        "True negative percent (percent of negatives accurately predicted)"
      ],
      "metadata": {
        "id": "ueBz7gK0f5VE"
      }
    },
    {
      "cell_type": "code",
      "source": [
        "actual_negative = (test_np == 0)\n",
        "num_actual_negative = np.sum(actual_negative)\n",
        "\n",
        "predicted_negative = (test_preds_np <= 0.01)\n",
        "actual_and_predicted_negative = np.logical_and(actual_negative, predicted_negative)\n",
        "num_actual_and_predicted_negative = np.sum(actual_and_predicted_negative)\n",
        "\n",
        "true_negative_percent = (num_actual_and_predicted_negative / num_actual_negative) * 100\n",
        "true_negative_percent"
      ],
      "metadata": {
        "id": "GCEI12VEf8eu"
      },
      "execution_count": null,
      "outputs": []
    },
    {
      "cell_type": "markdown",
      "source": [
        "![download.webp](data:image/webp;base64,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)"
      ],
      "metadata": {
        "id": "gsNkrgmMf_bZ"
      }
    },
    {
      "cell_type": "code",
      "source": [
        "confusion_matrix(train_np, train_preds_np > 0.5)"
      ],
      "metadata": {
        "id": "_OhEG39vUGn7"
      },
      "execution_count": null,
      "outputs": []
    },
    {
      "cell_type": "code",
      "source": [
        "confusion_matrix(test_np, test_preds_np > 0.1)"
      ],
      "metadata": {
        "id": "gc325FphVlJv"
      },
      "execution_count": null,
      "outputs": []
    },
    {
      "cell_type": "code",
      "source": [
        "confusion_matrix(valid_np, valid_preds_np > 0.1)"
      ],
      "metadata": {
        "id": "0l1E9bU8wXJl"
      },
      "execution_count": null,
      "outputs": []
    },
    {
      "cell_type": "code",
      "source": [
        "def plot_roc_curve(true_y, y_pred):\n",
        "    \"\"\"\n",
        "    plots the roc curve based of the probabilities\n",
        "    \"\"\"\n",
        "\n",
        "    fpr, tpr, thresholds = roc_curve(true_y, y_pred)\n",
        "    plt.plot(fpr, tpr)\n",
        "    plt.xlabel('False Positive Rate')\n",
        "    plt.ylabel('True Positive Rate')\n",
        "\n",
        "plot_roc_curve(train_np, train_preds_np)"
      ],
      "metadata": {
        "id": "eSeAtHcYVbYU"
      },
      "execution_count": null,
      "outputs": []
    },
    {
      "cell_type": "code",
      "source": [
        "plot_roc_curve(test_np, test_preds_np)"
      ],
      "metadata": {
        "id": "XhAi4jszTVoR"
      },
      "execution_count": null,
      "outputs": []
    },
    {
      "cell_type": "code",
      "source": [
        "plot_roc_curve(valid_np, valid_preds_np)"
      ],
      "metadata": {
        "id": "g06_HBMgwmQb"
      },
      "execution_count": null,
      "outputs": []
    },
    {
      "cell_type": "code",
      "source": [
        "print(classification_report(valid_np, valid_preds_np > 0.1))"
      ],
      "metadata": {
        "id": "baJAm7KVgWgj"
      },
      "execution_count": null,
      "outputs": []
    },
    {
      "cell_type": "code",
      "source": [
        "print(classification_report(valid_np, valid_preds_np > 0.5))"
      ],
      "metadata": {
        "id": "zhP25W_kgWvf"
      },
      "execution_count": null,
      "outputs": []
    },
    {
      "cell_type": "markdown",
      "source": [
        "## Exercises\n",
        "- Experiment with different hyperparameters/architectures, and investigate change in performance. For example, you could change batch size, optimizer, learning rate (and other optimizer parameters), hidden layer dimension, number of hidden layers, activation function, etc..\n",
        "\n",
        "Some useful links:\n",
        "- https://pytorch.org/docs/stable/nn.html#non-linear-activations-weighted-sum-nonlinearity\n",
        "- https://pytorch.org/docs/stable/optim.html"
      ],
      "metadata": {
        "id": "Iy-OWlYHJo_M"
      }
    },
    {
      "cell_type": "markdown",
      "source": [
        "# Additional Resources\n",
        "\n",
        "# Neural Networks/Deep Learning\n",
        "\n",
        "- guide to Google Colab: https://colab.research.google.com/notebooks/welcome.ipynb#scrollTo=-Rh3-Vt9Nev9\n",
        "\n",
        "- Fast.ai Deep Learning Course https://course19.fast.ai/index.html\n",
        "\n",
        "- MNIST in pytorch: https://colab.research.google.com/github/omarsar/pytorch_notebooks/blob/master/pytorch_quick_start.ipynb\n",
        "\n",
        "- Andrej Karpathy's (OpenAI, former director AI at Tesla) Neural Networks: Zero to Hero Youtube course https://www.youtube.com/watch?v=VMj-3S1tku0&list=PLAqhIrjkxbuWI23v9cThsA9GvCAUhRvKZ&index=1\n",
        "\n",
        "- UvA Deep Learning Tutorials https://uvadlc-notebooks.readthedocs.io/en/latest/index.html\n",
        "\n",
        "- Dive Into Deep Learning (applied deep learning textbook/examples) https://d2l.ai/\n",
        "\n",
        "# General Python\n",
        "\n",
        "- https://docs.python.org/3/tutorial/"
      ],
      "metadata": {
        "id": "zD8cbdvsolID"
      }
    }
  ]
}